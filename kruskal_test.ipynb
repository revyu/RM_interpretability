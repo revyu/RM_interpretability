{
 "cells": [
  {
   "cell_type": "code",
   "execution_count": 29,
   "id": "45a8fb30",
   "metadata": {},
   "outputs": [],
   "source": [
    "from datasets import load_from_disk\n",
    "import pandas as pd\n",
    "import scipy.stats as stats\n",
    "from tqdm import tqdm"
   ]
  },
  {
   "cell_type": "code",
   "execution_count": 3,
   "id": "393d5064",
   "metadata": {},
   "outputs": [],
   "source": [
    "rewards=load_from_disk(\"REBEL/rewards\")"
   ]
  },
  {
   "cell_type": "code",
   "execution_count": 4,
   "id": "9da7e7f7",
   "metadata": {},
   "outputs": [
    {
     "data": {
      "text/plain": [
       "Index(['prompt_uid', 'prompt_category', 'prompt',\n",
       "       'claude-3-haiku-20240307_response', 'claude-3-opus-20240229_response',\n",
       "       'claude-3-sonnet-20240229_response', 'command-r_response',\n",
       "       'command-r-plus_response', 'dbrx-instruct_response',\n",
       "       'gpt-3.5-turbo-0125_response', 'gpt-4-turbo-2024-04-09_response',\n",
       "       'llama-3-70b-instruct_response', 'mistral-large_response',\n",
       "       'mistral-medium_response', 'mistral-small_response',\n",
       "       'mixtral-8x7b-instruct_response',\n",
       "       'response_mixtral-8x7b-instruct_reward',\n",
       "       'response_mixtral-8x7b-instruct_by_objective',\n",
       "       'response_mistral-small_reward', 'response_mistral-small_by_objective',\n",
       "       'response_mistral-medium_reward',\n",
       "       'response_mistral-medium_by_objective',\n",
       "       'response_gpt-3.5-turbo-0125_reward',\n",
       "       'response_gpt-3.5-turbo-0125_by_objective',\n",
       "       'response_mistral-large_reward', 'response_mistral-large_by_objective',\n",
       "       'response_gpt-4-turbo-2024-04-09_reward',\n",
       "       'response_gpt-4-turbo-2024-04-09_by_objective',\n",
       "       'response_claude-3-opus-20240229_reward',\n",
       "       'response_claude-3-opus-20240229_by_objective',\n",
       "       'response_claude-3-sonnet-20240229_reward',\n",
       "       'response_claude-3-sonnet-20240229_by_objective',\n",
       "       'response_command-r_reward', 'response_command-r_by_objective',\n",
       "       'response_command-r-plus_reward',\n",
       "       'response_command-r-plus_by_objective',\n",
       "       'response_claude-3-haiku-20240307_reward',\n",
       "       'response_claude-3-haiku-20240307_by_objective',\n",
       "       'response_dbrx-instruct_reward', 'response_dbrx-instruct_by_objective',\n",
       "       'response_llama-3-70b-instruct_reward',\n",
       "       'response_llama-3-70b-instruct_by_objective'],\n",
       "      dtype='object')"
      ]
     },
     "execution_count": 4,
     "metadata": {},
     "output_type": "execute_result"
    }
   ],
   "source": [
    "df=rewards.to_pandas()\n",
    "df.columns"
   ]
  },
  {
   "cell_type": "code",
   "execution_count": 26,
   "id": "f6d17af1",
   "metadata": {},
   "outputs": [],
   "source": [
    "\n",
    "def kruskal_for_category_metric(df_long, category, metric):\n",
    "    sub = df_long[\n",
    "        (df_long['prompt_category'] == category) &\n",
    "        (df_long['metric'] == metric)\n",
    "    ]\n",
    "    # Сгруппируем по модели, получим списки значений\n",
    "    groups = [grp['value'].values for _, grp in sub.groupby('model')]\n",
    "    # Нужно минимум 2 группы с ≥1 значением\n",
    "    valid = [g for g in groups if len(g) > 0]\n",
    "    if len(valid) < 2:\n",
    "        return float('nan')\n",
    "    stat, pval = stats.kruskal(*valid)\n",
    "    return pval"
   ]
  },
  {
   "cell_type": "code",
   "execution_count": null,
   "id": "b6a43164",
   "metadata": {},
   "outputs": [
    {
     "name": "stderr",
     "output_type": "stream",
     "text": [
      "100%|██████████| 19/19 [00:01<00:00, 18.16it/s]\n",
      "100%|██████████| 19/19 [00:01<00:00, 18.78it/s]\n",
      "100%|██████████| 19/19 [00:01<00:00, 18.72it/s]\n",
      "100%|██████████| 19/19 [00:01<00:00, 18.77it/s]\n",
      "100%|██████████| 19/19 [00:01<00:00, 18.62it/s]\n",
      "100%|██████████| 19/19 [00:01<00:00, 18.68it/s]\n",
      "100%|██████████| 19/19 [00:01<00:00, 18.58it/s]\n",
      "100%|██████████| 19/19 [00:01<00:00, 18.69it/s]\n",
      "100%|██████████| 19/19 [00:01<00:00, 18.53it/s]\n",
      "100%|██████████| 19/19 [00:01<00:00, 18.61it/s]\n",
      "100%|██████████| 19/19 [00:01<00:00, 18.73it/s]\n",
      "100%|██████████| 19/19 [00:01<00:00, 18.77it/s]\n",
      "100%|██████████| 19/19 [00:01<00:00, 18.74it/s]\n",
      "100%|██████████| 19/19 [00:01<00:00, 18.73it/s]\n",
      "100%|██████████| 19/19 [00:01<00:00, 18.69it/s]\n",
      "100%|██████████| 19/19 [00:01<00:00, 18.78it/s]\n",
      "100%|██████████| 19/19 [00:01<00:00, 18.63it/s]\n",
      "100%|██████████| 19/19 [00:01<00:00, 18.79it/s]\n",
      "100%|██████████| 19/19 [00:01<00:00, 18.70it/s]\n",
      "100%|██████████| 19/19 [00:01<00:00, 18.70it/s]\n",
      "100%|██████████| 19/19 [00:01<00:00, 18.70it/s]\n",
      "100%|██████████| 19/19 [00:01<00:00, 18.73it/s]\n",
      "100%|██████████| 19/19 [00:01<00:00, 18.74it/s]\n",
      "100%|██████████| 19/19 [00:01<00:00, 18.73it/s]\n",
      "100%|██████████| 19/19 [00:01<00:00, 18.68it/s]\n",
      "100%|██████████| 19/19 [00:01<00:00, 18.61it/s]\n",
      "100%|██████████| 19/19 [00:01<00:00, 18.76it/s]\n",
      "100%|██████████| 19/19 [00:01<00:00, 18.69it/s]\n",
      "100%|██████████| 19/19 [00:01<00:00, 18.75it/s]\n",
      "100%|██████████| 19/19 [00:01<00:00, 18.72it/s]\n",
      "100%|██████████| 19/19 [00:01<00:00, 18.65it/s]\n",
      "100%|██████████| 19/19 [00:01<00:00, 18.73it/s]\n",
      "100%|██████████| 19/19 [00:01<00:00, 18.75it/s]\n",
      "100%|██████████| 19/19 [00:01<00:00, 18.71it/s]\n",
      "100%|██████████| 19/19 [00:01<00:00, 18.76it/s]\n",
      "100%|██████████| 19/19 [00:01<00:00, 18.73it/s]\n",
      "100%|██████████| 19/19 [00:01<00:00, 18.88it/s]\n",
      "100%|██████████| 19/19 [00:01<00:00, 18.79it/s]\n",
      "100%|██████████| 19/19 [00:01<00:00, 18.70it/s]\n",
      "100%|██████████| 19/19 [00:01<00:00, 18.57it/s]\n",
      "100%|██████████| 19/19 [00:01<00:00, 18.75it/s]\n",
      "100%|██████████| 19/19 [00:01<00:00, 18.69it/s]\n",
      "100%|██████████| 19/19 [00:01<00:00, 18.62it/s]\n",
      "100%|██████████| 19/19 [00:01<00:00, 18.74it/s]\n",
      "100%|██████████| 19/19 [00:01<00:00, 18.61it/s]\n",
      "100%|██████████| 19/19 [00:01<00:00, 18.71it/s]\n",
      "100%|██████████| 19/19 [00:01<00:00, 18.85it/s]\n",
      "100%|██████████| 19/19 [00:01<00:00, 18.71it/s]\n",
      "100%|██████████| 19/19 [00:01<00:00, 18.72it/s]\n",
      "100%|██████████| 19/19 [00:01<00:00, 18.71it/s]\n",
      "100%|██████████| 19/19 [00:01<00:00, 18.75it/s]\n",
      "100%|██████████| 19/19 [00:01<00:00, 18.77it/s]\n",
      "100%|██████████| 19/19 [00:01<00:00, 18.73it/s]\n",
      "100%|██████████| 19/19 [00:01<00:00, 18.74it/s]\n",
      "100%|██████████| 19/19 [00:01<00:00, 18.70it/s]\n",
      "100%|██████████| 19/19 [00:01<00:00, 18.75it/s]\n",
      "100%|██████████| 56/56 [00:56<00:00,  1.02s/it]\n"
     ]
    }
   ],
   "source": [
    "\n",
    "# 1. Выделяем список колонок с оценками по моделям\n",
    "response_cols = [col for col in df.columns if col.startswith(\"response_\") and col.endswith(\"_by_objective\")]\n",
    "\n",
    "# 2. Собираем «длинный» DataFrame: каждая строка — это одна оценка метрики от одной модели для одного промпта\n",
    "records = []\n",
    "for idx, row in df.iterrows():\n",
    "    uid = row['prompt_uid']\n",
    "    category = row['prompt_category']\n",
    "    for col in response_cols:\n",
    "        # Получаем имя модели, убирая префикс \"response_\" и суффикс \"_by_objective\"\n",
    "        model = col[len(\"response_\"):-len(\"_by_objective\")]\n",
    "        metric_dict = row[col]\n",
    "        # Если в cell пусто или не словарь, пропустим\n",
    "        if not isinstance(metric_dict, dict):\n",
    "            continue\n",
    "        for metric, value in metric_dict.items():\n",
    "            records.append({\n",
    "                'prompt_uid': uid,\n",
    "                'prompt_category': category,\n",
    "                'model': model,\n",
    "                'metric': metric,\n",
    "                'value': value\n",
    "            })\n",
    "\n",
    "long_df = pd.DataFrame(records)\n",
    "\n",
    "# 3. Список уникальных категорий и метрик\n",
    "categories = long_df['prompt_category'].unique()\n",
    "metrics = long_df['metric'].unique()\n",
    "\n",
    "\n",
    "pvals_kruskal = pd.DataFrame(index=categories, columns=metrics, dtype=float)\n",
    "\n",
    "for cat in tqdm(categories):\n",
    "    for met in tqdm(metrics):\n",
    "        pvals_kruskal.loc[cat, met] = kruskal_for_category_metric(long_df, cat, met)\n",
    "\n",
    "# Преобразуем к float\n",
    "p_values = pvals_kruskal.astype(float)"
   ]
  },
  {
   "cell_type": "code",
   "execution_count": 34,
   "id": "7d68f5aa",
   "metadata": {},
   "outputs": [
    {
     "data": {
      "text/plain": [
       "np.True_"
      ]
     },
     "execution_count": 34,
     "metadata": {},
     "output_type": "execute_result"
    }
   ],
   "source": [
    "\n",
    "mask = p_values > 0.99\n",
    "\n",
    "mask.all().all()"
   ]
  }
 ],
 "metadata": {
  "kernelspec": {
   "display_name": "base",
   "language": "python",
   "name": "python3"
  },
  "language_info": {
   "codemirror_mode": {
    "name": "ipython",
    "version": 3
   },
   "file_extension": ".py",
   "mimetype": "text/x-python",
   "name": "python",
   "nbconvert_exporter": "python",
   "pygments_lexer": "ipython3",
   "version": "3.12.3"
  }
 },
 "nbformat": 4,
 "nbformat_minor": 5
}
